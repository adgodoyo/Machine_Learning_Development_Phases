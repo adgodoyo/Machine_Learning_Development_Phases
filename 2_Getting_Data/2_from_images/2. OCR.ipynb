{
 "cells": [
  {
   "cell_type": "code",
   "execution_count": null,
   "metadata": {},
   "outputs": [],
   "source": [
    "pip install easyocr"
   ]
  },
  {
   "cell_type": "code",
   "execution_count": null,
   "metadata": {},
   "outputs": [],
   "source": [
    "pip install torch"
   ]
  },
  {
   "cell_type": "code",
   "execution_count": null,
   "metadata": {},
   "outputs": [
    {
     "name": "stderr",
     "output_type": "stream",
     "text": [
      "Neither CUDA nor MPS are available - defaulting to CPU. Note: This module is much faster with a GPU.\n"
     ]
    },
    {
     "name": "stdout",
     "output_type": "stream",
     "text": [
      "Texto: 2, Probabilidad: 1.0000\n",
      "Texto: OpenCV `, Probabilidad: 0.7730\n",
      "Texto: para Detección de Objetos y Extracción de Características:, Probabilidad: 0.9259\n",
      "Texto: Descripción: OpenCV es una biblioteca muy popular para procesamiento de imágenes, Probabilidad: 0.6732\n",
      "Texto: visión, Probabilidad: 0.9997\n"
     ]
    }
   ],
   "source": [
    "import easyocr\n",
    "\n",
    "# Crear el lector. Puedes especificar el idioma aquí (por ejemplo, 'es' para español)\n",
    "reader = easyocr.Reader(['es'])  # También puedes usar ['es'] para español, o agregar más idiomas\n",
    "\n",
    "# Ruta a la imagen que deseas analizar\n",
    "image_path = 'Ejemplos 1/imagen.png'\n",
    "\n",
    "# Realiza OCR en la imagen\n",
    "result = reader.readtext(image_path)\n",
    "\n",
    "# Procesar y mostrar el texto extraído\n",
    "for (bbox, text, prob) in result:\n",
    "    print(f'Texto: {text}, Probabilidad: {prob:.4f}')\n"
   ]
  }
 ],
 "metadata": {
  "kernelspec": {
   "display_name": "Python 3",
   "language": "python",
   "name": "python3"
  },
  "language_info": {
   "codemirror_mode": {
    "name": "ipython",
    "version": 3
   },
   "file_extension": ".py",
   "mimetype": "text/x-python",
   "name": "python",
   "nbconvert_exporter": "python",
   "pygments_lexer": "ipython3",
   "version": "3.11.7"
  }
 },
 "nbformat": 4,
 "nbformat_minor": 2
}
